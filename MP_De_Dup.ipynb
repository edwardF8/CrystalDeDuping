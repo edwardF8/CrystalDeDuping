{
 "cells": [
  {
   "cell_type": "markdown",
   "id": "39c82eac-6715-4d77-a086-98ba179f1b5a",
   "metadata": {},
   "source": [
    "### De-Dupping using MP"
   ]
  },
  {
   "cell_type": "code",
   "execution_count": 4,
   "id": "fab63f98-ee48-41f4-9d63-85b9cd0f0ca3",
   "metadata": {
    "tags": []
   },
   "outputs": [
    {
     "data": {
      "application/javascript": [
       "if (!(\"Notification\" in window)) {\n",
       "    alert(\"This browser does not support desktop notifications, so the %%notify magic will not work.\");\n",
       "} else if (Notification.permission !== 'granted' && Notification.permission !== 'denied') {\n",
       "    Notification.requestPermission(function (permission) {\n",
       "        if(!('permission' in Notification)) {\n",
       "            Notification.permission = permission;\n",
       "        }\n",
       "    })\n",
       "}\n"
      ],
      "text/plain": [
       "<IPython.core.display.Javascript object>"
      ]
     },
     "metadata": {},
     "output_type": "display_data"
    },
    {
     "name": "stderr",
     "output_type": "stream",
     "text": [
      "/tmp/ipykernel_3253059/523539516.py:11: DtypeWarning: Columns (4) have mixed types. Specify dtype option on import or set low_memory=False.\n",
      "  CrystalData = pd.read_csv('Crystal Database.csv')\n"
     ]
    }
   ],
   "source": [
    "import pandas as pd\n",
    "import torch\n",
    "import numpy as np\n",
    "import os\n",
    "import matplotlib.pyplot as plt\n",
    "import torch\n",
    "import time\n",
    "import torch.multiprocessing as mp\n",
    "%reload_ext jupyternotify\n",
    "\n",
    "CrystalData = pd.read_csv('Crystal Database.csv')"
   ]
  },
  {
   "cell_type": "code",
   "execution_count": 5,
   "id": "eb190e9e-2733-4e59-8bd0-2a000f0639e3",
   "metadata": {
    "tags": []
   },
   "outputs": [],
   "source": [
    "# Function to process the DataFrame on each GPU\n",
    "def process_data_on_gpu(rank, world_size, CrystalData, shared_dict):\n",
    "    # Filter and prepare the DataFrame\n",
    "    booleanFilter = CrystalData['name'].value_counts() > 1\n",
    "    booleanFilter = booleanFilter[booleanFilter]\n",
    "    CrystalDuplicatesDF = CrystalData[CrystalData['name'].isin(booleanFilter.index)]\n",
    "    all_unique_names = CrystalDuplicatesDF['name'].unique()\n",
    "    \n",
    "    # Process chunks of unique names on each GPU\n",
    "    chunk_size = len(all_unique_names) // world_size\n",
    "    start_idx = rank * chunk_size\n",
    "    end_idx = (rank + 1) * chunk_size if rank != world_size - 1 else len(all_unique_names)\n",
    "    unique_names_chunk = all_unique_names[start_idx:end_idx]\n",
    "    if rank == 0:\n",
    "        print(f'Splitting {len(all_unique_names)}')\n",
    "    # Initialize a local dictionary for the current process\n",
    "    local_dict = {}\n",
    "    #split dataframe into dictionary of dataframes with multiple entires of the same chemical name\n",
    "    for name in unique_names_chunk:\n",
    "        #print('Splitting' + name)\n",
    "        group = CrystalDuplicatesDF[CrystalDuplicatesDF['name'] == name]\n",
    "        local_dict[name] = group\n",
    "\n",
    "    # Store the local dictionary in the shared dictionary\n",
    "    shared_dict[rank] = local_dict\n",
    "    print(f'Finished {rank}/{world_size} Splitting Process')\n",
    "\n",
    "# Function to filter each dataframe from the dictionary to delete all merges,\n",
    "# Algorithm to Delete Merges from Set:\n",
    "    # Takes newest entry based on pubyear\n",
    "    # if there are multiple of the same year or NULL years, \n",
    "    #    takes entry with cloest to medain volume in that range\n",
    "    #rest are added to \"toRe\" dataframe\n",
    "def filter_data_on_gpu(rank, world_size, shared_dict, filtered_shared_dict, toRe_shared_dict):\n",
    "    local_dict = shared_dict[rank]\n",
    "    filtered_local_dict = {}\n",
    "    toRe_local = pd.DataFrame()\n",
    "\n",
    "    for x in local_dict.keys():\n",
    "        df = local_dict.get(x)\n",
    "        #verifies that we are only grabbing those with the same space group\n",
    "        booleanFilter = df['Space Group'].value_counts() > 1 \n",
    "        booleanFilter = booleanFilter[booleanFilter]\n",
    "        if len(booleanFilter) == 0:\n",
    "            continue\n",
    "\n",
    "        df = df[df['Space Group'].isin(booleanFilter.index)].sort_values(by='Space Group')\n",
    "        unique_spaceGroups = df['Space Group'].unique()\n",
    "        differnetSpaceGroups = {sGroup: df[df['Space Group'] == sGroup] for sGroup in unique_spaceGroups}\n",
    "        spaceGroupsLeft = list(differnetSpaceGroups.keys())\n",
    "\n",
    "        for p in spaceGroupsLeft:\n",
    "            df = differnetSpaceGroups.get(p)\n",
    "            filters = df['Space Group'].value_counts() > 1\n",
    "            filters = filters[filters]\n",
    "            df = df[df['Space Group'].isin(filters.index)]\n",
    "            df['Publication Year'] = df['Publication Year'].astype(str)\n",
    "            non_numeric_strings = df[df['Publication Year'].apply(lambda x: not x.isnumeric())]\n",
    "\n",
    "            if non_numeric_strings.shape[0] > 0:\n",
    "                non_numeric_mask = ~df['Publication Year'].str.isnumeric()\n",
    "                df_non_numeric = df[non_numeric_mask]\n",
    "                df = df[df['Publication Year'].str.isnumeric()]\n",
    "                if df.shape[0] == 0:\n",
    "                    df_non_numeric = df_non_numeric.iloc[1:]\n",
    "                    toRe_local = pd.concat([toRe_local, df_non_numeric], axis=0)\n",
    "                    continue\n",
    "                else:\n",
    "                    toRe_local = pd.concat([toRe_local, df_non_numeric], axis=0)\n",
    "\n",
    "            highestYear = df.loc[df['Publication Year'].astype(int) == df['Publication Year'].astype(int).max()]\n",
    "            if len(highestYear) == 1:\n",
    "                removedElements = df.loc[df['Publication Year'].astype(int) != df['Publication Year'].astype(int).max()]\n",
    "            else:\n",
    "                toRe_local = pd.concat([df.loc[df['Publication Year'].astype(int) != df['Publication Year'].astype(int).max()], toRe_local], axis=0)\n",
    "                data_median = highestYear['Volume'].median()\n",
    "                data_diff = (highestYear['Volume'] - data_median).abs()\n",
    "                min_diff = data_diff.min()\n",
    "                closest_indices = data_diff[data_diff == min_diff].index\n",
    "                closest_index = closest_indices[0]\n",
    "                removedElements = highestYear.loc[highestYear.index != closest_index]\n",
    "            \n",
    "            toRe_local = pd.concat([toRe_local, removedElements], axis=0)\n",
    "    filtered_shared_dict[rank] = filtered_local_dict\n",
    "    toRe_shared_dict[rank] = toRe_local\n",
    "    print(f'Finshed {rank}/{world_size} Filtering Process')"
   ]
  },
  {
   "cell_type": "code",
   "execution_count": 6,
   "id": "48615968-44f2-4554-a4a4-d77f3273668e",
   "metadata": {
    "tags": []
   },
   "outputs": [
    {
     "name": "stdout",
     "output_type": "stream",
     "text": [
      "Amount of GPUs in use: 4\n",
      "Intalziing Splitting Process\n",
      "Starting 0/4 Splitting Process\n",
      "Starting 1/4 Splitting Process\n",
      "Starting 2/4 Splitting Process\n",
      "Starting 3/4 Splitting Process\n",
      "Splitting148931\n",
      "Finished 0/4 Splitting Process\n",
      "Finished 2/4 Splitting Process\n",
      "Finished 3/4 Splitting Process\n",
      "Finished 1/4 Splitting Process\n",
      "Splitting Finished\n",
      "Splitting took 2035.68 seconds\n",
      "Intialziing Filtering Process\n",
      "Starting 0/4 Filtering Process\n",
      "Starting 1/4 Filtering Process\n",
      "Starting 2/4 Filtering Process\n",
      "Starting 3/4 Filtering Process\n",
      "Finshed 2/4 Filtering Process\n",
      "Finshed 1/4 Filtering Process\n",
      "Finshed 3/4 Filtering Process\n",
      "Finshed 0/4 Filtering Process\n",
      "Filtering Finished\n",
      "Filtering took 680.90 seconds\n"
     ]
    },
    {
     "data": {
      "application/javascript": [
       "$(document).ready(\n",
       "    function() {\n",
       "        function appendUniqueDiv(){\n",
       "            // append a div with our uuid so we can check that it's already\n",
       "            // been sent and avoid duplicates on page reload\n",
       "            var notifiedDiv = document.createElement(\"div\")\n",
       "            notifiedDiv.id = \"4bbd022a-a09f-4e51-8280-b4642695a366\"\n",
       "            element.append(notifiedDiv)\n",
       "        }\n",
       "\n",
       "        // only send notifications if the pageload is complete; this will\n",
       "        // help stop extra notifications when a saved notebook is loaded,\n",
       "        // which during testing gives us state \"interactive\", not \"complete\"\n",
       "        if (document.readyState === 'complete') {\n",
       "            // check for the div that signifies that the notification\n",
       "            // was already sent\n",
       "            if (document.getElementById(\"4bbd022a-a09f-4e51-8280-b4642695a366\") === null) {\n",
       "                var notificationPayload = {\"requireInteraction\": false, \"icon\": \"/static/base/images/favicon.ico\", \"body\": \"Cell execution has finished!\"};\n",
       "                if (Notification.permission !== 'denied') {\n",
       "                    if (Notification.permission !== 'granted') { \n",
       "                        Notification.requestPermission(function (permission) {\n",
       "                            if(!('permission' in Notification)) {\n",
       "                                Notification.permission = permission\n",
       "                            }\n",
       "                        })\n",
       "                    }\n",
       "                    if (Notification.permission === 'granted') {\n",
       "                    var notification = new Notification(\"Jupyter Notebook\", notificationPayload)\n",
       "                    appendUniqueDiv()\n",
       "                    notification.onclick = function () {\n",
       "                        window.focus();\n",
       "                        this.close();\n",
       "                        };\n",
       "                    } \n",
       "                }     \n",
       "            }\n",
       "        }\n",
       "    }\n",
       ")\n"
      ],
      "text/plain": [
       "<IPython.core.display.Javascript object>"
      ]
     },
     "metadata": {},
     "output_type": "display_data"
    }
   ],
   "source": [
    "%%notify\n",
    "world_size = 4\n",
    "print(f'Amount of GPUs in use: {world_size}')\n",
    "manager = mp.Manager()\n",
    "shared_dict = manager.dict()\n",
    "filtered_shared_dict = manager.dict()\n",
    "toRe_shared_dict = manager.dict()\n",
    "\n",
    "start_time = time.time()\n",
    "# Create and start processes for initial processing\n",
    "processes = []\n",
    "print('Intalziing Splitting Process')\n",
    "for rank in range(world_size):\n",
    "    p = mp.Process(target=process_data_on_gpu, args=(rank, 4, CrystalData, shared_dict))\n",
    "    print(f'Starting {rank}/{world_size} Splitting Process')\n",
    "    p.start()\n",
    "    processes.append(p)\n",
    "\n",
    "# Join processes for initial processing\n",
    "for p in processes:\n",
    "    p.join()\n",
    "    \n",
    "end_time = time.time()  \n",
    "print('Splitting Finished')\n",
    "print(f\"Splitting took {end_time - start_time:.2f} seconds\") #2002,6 secibds\n",
    "\n",
    "start_time = time.time()\n",
    "# Create and start processes for filtering\n",
    "processes = []\n",
    "print('Intialziing Filtering Process')\n",
    "for rank in range(world_size):\n",
    "    p = mp.Process(target=filter_data_on_gpu, args=(rank, world_size, shared_dict, filtered_shared_dict, toRe_shared_dict))\n",
    "    print(f'Starting {rank}/{world_size} Filtering Process')\n",
    "    p.start()\n",
    "    processes.append(p)\n",
    "\n",
    "# Join processes for filtering\n",
    "for p in processes:\n",
    "    p.join()\n",
    "\n",
    "# Merge results from all GPUs\n",
    "CrystalDuplicatesDict = {}\n",
    "for local_dict in filtered_shared_dict.values():\n",
    "    CrystalDuplicatesDict.update(local_dict)\n",
    "\n",
    "end_time = time.time()  \n",
    "print('Filtering Finished')\n",
    "print(f\"Filtering took {end_time - start_time:.2f} seconds\")  #671.84 seconds\n",
    "\n",
    "toRemove = pd.DataFrame()\n",
    "for df in toRe_shared_dict.values():\n",
    "    toRemove = pd.concat([toRemove, df], axis=0)\n",
    "\n",
    "#toRemove is a dataframe with all duplicate values that need to be removed\n"
   ]
  },
  {
   "cell_type": "code",
   "execution_count": null,
   "id": "8f37e710-140c-4588-8111-ce96a2371ee2",
   "metadata": {},
   "outputs": [],
   "source": [
    "CrystalDatabaseWithoutDups = CrystalData[~CrystalData.index.isin(toRemove.index)]\n",
    "CrystalDatabaseWithoutDups.to_csv('De_Dupped_Data.csv')"
   ]
  },
  {
   "cell_type": "markdown",
   "id": "1c55006d-ade8-4f9f-a950-bb4d8873ca82",
   "metadata": {},
   "source": [
    "### Graphs"
   ]
  },
  {
   "cell_type": "code",
   "execution_count": null,
   "id": "83f4fccb-c5f5-46a0-91be-9c981a5fbfe5",
   "metadata": {},
   "outputs": [],
   "source": [
    "value_counts_dups = CrystalData['Bravais Lattice'].value_counts()\n",
    "value_counts_ddups = CrystalDatabaseWithoutDups['Bravais Lattice'].value_counts()\n",
    "\n",
    "\n",
    "# Plotting\n",
    "plt.figure(figsize=(16, 12)) # Adjust the size of the figure if needed\n",
    "# Plot for dups\n",
    "plt.subplot(121)\n",
    "value_counts_dups.plot(kind='bar', color='red',alpha=0.8, label='Duplicated Data')\n",
    "value_counts_ddups.plot(kind='bar', color='green',label='De-Duplicated Data')\n",
    "plt.ylabel('Count')\n",
    "plt.title(\"ICSD and CSD Bravais Lattices for Duplicated vs De-Duplicated Data\")\n",
    "plt.legend()"
   ]
  }
 ],
 "metadata": {
  "kernelspec": {
   "display_name": "Python Crisp",
   "language": "python",
   "name": "crisp"
  },
  "language_info": {
   "codemirror_mode": {
    "name": "ipython",
    "version": 3
   },
   "file_extension": ".py",
   "mimetype": "text/x-python",
   "name": "python",
   "nbconvert_exporter": "python",
   "pygments_lexer": "ipython3",
   "version": "3.11.9"
  }
 },
 "nbformat": 4,
 "nbformat_minor": 5
}
