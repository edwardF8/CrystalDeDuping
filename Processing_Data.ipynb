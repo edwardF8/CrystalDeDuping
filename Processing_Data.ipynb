{
 "cells": [
  {
   "cell_type": "code",
   "execution_count": 2,
   "id": "2e49e6d9-dc14-4ae2-8978-b770421fe1f7",
   "metadata": {
    "tags": []
   },
   "outputs": [
    {
     "data": {
      "application/javascript": [
       "if (!(\"Notification\" in window)) {\n",
       "    alert(\"This browser does not support desktop notifications, so the %%notify magic will not work.\");\n",
       "} else if (Notification.permission !== 'granted' && Notification.permission !== 'denied') {\n",
       "    Notification.requestPermission(function (permission) {\n",
       "        if(!('permission' in Notification)) {\n",
       "            Notification.permission = permission;\n",
       "        }\n",
       "    })\n",
       "}\n"
      ],
      "text/plain": [
       "<IPython.core.display.Javascript object>"
      ]
     },
     "metadata": {},
     "output_type": "display_data"
    }
   ],
   "source": [
    "import pandas as pd\n",
    "import torch\n",
    "import numpy as np\n",
    "import os\n",
    "import matplotlib.pyplot as plt\n",
    "%reload_ext jupyternotify"
   ]
  },
  {
   "cell_type": "code",
   "execution_count": 3,
   "id": "faf760af-a1fe-43b3-90b9-4309fb6fa836",
   "metadata": {
    "tags": []
   },
   "outputs": [],
   "source": [
    "def addBravaisLattice(dataframe, spaceGroupTag):\n",
    "    spaceGroupDf = pd.read_excel(\"Book1.xlsx\")\n",
    "    spaceGroupDf.columns = ['Crystal System','Space Group','Full Name']\n",
    "    spaceGroupDf['Bravais Lattice'] = spaceGroupDf['Full Name'].str[0] + '-' + spaceGroupDf['Crystal System'].astype(str) \n",
    "    merged = dataframe.merge(spaceGroupDf, left_on=spaceGroupTag, right_on='Space Group', how='left')\n",
    "    dataframe = merged.drop(['Bravais','Space Group','Full Name'],axis=1)\n",
    "    \n",
    "    merged.loc[merged['Bravais Lattice'] == 'P-tetragonal', 'Bravais Lattice'] = 'P-Tetragonal'\n",
    "    merged.loc[merged['Bravais Lattice'] == 'I-tetragonal', 'Bravais Lattice'] = 'I-Tetragonal'\n",
    "    merged.loc[merged['Bravais Lattice'] == 'P-Trigonal', 'Bravais Lattice'] = 'R-Trigonal'\n",
    "    merged.loc[merged['Bravais Lattice'] == 'A-Orthorhombic', 'Bravais Lattice'] = 'C-Orthorhombic'\n",
    "    merged.loc[merged['Bravais Lattice'] == 'P-hexagonal', 'Bravais Lattice'] = 'P-Hexagonal'\n",
    "    return merged"
   ]
  },
  {
   "cell_type": "markdown",
   "id": "aa87fc53-3d2c-44a9-ad1b-0adf18d1e68e",
   "metadata": {},
   "source": [
    "##### Load Dataframes and add Bravais Lattice if needed"
   ]
  },
  {
   "cell_type": "code",
   "execution_count": null,
   "id": "6f239d54-517c-4b34-9bc3-1b8a2cb9b89e",
   "metadata": {},
   "outputs": [],
   "source": [
    "pathToICSD = ''\n",
    "pathToCSD = ''\n",
    "pathToCOD = ''"
   ]
  },
  {
   "cell_type": "code",
   "execution_count": null,
   "id": "ca1df405-5714-462a-a891-72754a921483",
   "metadata": {},
   "outputs": [],
   "source": [
    "ICSD = pd.read_csv(pathToICSD)\n",
    "ICSD = addBravaisLattice(ICSD, 'sym_group')"
   ]
  },
  {
   "cell_type": "code",
   "execution_count": 5,
   "id": "9edf1bf3-41b7-49a5-aeee-6ea66836960b",
   "metadata": {
    "tags": []
   },
   "outputs": [],
   "source": [
    "CSD = pd.read_csv(pathToCSD)"
   ]
  },
  {
   "cell_type": "code",
   "execution_count": 6,
   "id": "3b82b674-713a-4c94-b1ea-577b40259bd1",
   "metadata": {
    "tags": []
   },
   "outputs": [
    {
     "name": "stderr",
     "output_type": "stream",
     "text": [
      "/tmp/ipykernel_3258554/3367538459.py:1: DtypeWarning: Columns (9) have mixed types. Specify dtype option on import or set low_memory=False.\n",
      "  COD = pd.read_csv('COD.csv')\n"
     ]
    }
   ],
   "source": [
    "COD = pd.read_csv(pathToCOD)"
   ]
  },
  {
   "cell_type": "markdown",
   "id": "beef030d-9e59-4a42-87c3-4090ece659c8",
   "metadata": {},
   "source": [
    "### Combining ICSD, COD, and CSD\n",
    "\n",
    "1. COD: Fix chemical_sum name and strip all the whitespaces in COD to match ICSD\n",
    "2. ICSD: Add path column and move cif_names there\n",
    "3. ICSD and COD: Add 'Database' column thats either ICSD or COD\n",
    "4. Make sure columns are the same\n",
    "\n",
    "List of Final Columns\n",
    "'name', 'Local Path', 'Database', 'Publication Year', 'a', 'b','c','alpha','beta','gamma','Volume', 'Bravais Lattice', 'Space Group','Numeric Bravais Lattice'\n",
    "\n",
    "'name' = chemical name w no spaces \n",
    "\n",
    "'local path' = within the folder of the dataspace, this is a path to the file(inside the parent folder)\n",
    "\n",
    "'publication year' = year it was published\n",
    "\n",
    "'Bravais Lattice' = String bravais Lattice\n",
    "\n",
    "'Space group' = numerical space group\n",
    "\n",
    "'Numerical Space Group' = 0-13 for spacing group, see mapping below\n"
   ]
  },
  {
   "cell_type": "code",
   "execution_count": null,
   "id": "52439331-2bf0-4b29-be8d-f6ff35775941",
   "metadata": {},
   "outputs": [],
   "source": [
    "#Task 1\n",
    "COD['name'] = COD['Chemical Sum'].str.replace(' ', '')\n",
    "CSD['name'] = CSD['Chemical Sum'].str.replace(' ', '')"
   ]
  },
  {
   "cell_type": "code",
   "execution_count": null,
   "id": "03953ec1-0bd1-48db-a8f7-02580ba2dfbf",
   "metadata": {},
   "outputs": [],
   "source": [
    "#Task 2\n",
    "#ISCD['Local Zip Path']\n",
    "ICSD['Local Path'] = \"diffraction.icsd_\" +  ICSD['cif_names'].apply(lambda x: '{:06d}'.format(int(x)))\n",
    "CSD['Local Path'] = CSD['File Path']\n",
    "COD['Local Path'] = COD['Local Zip Path']"
   ]
  },
  {
   "cell_type": "code",
   "execution_count": null,
   "id": "fc0df3b4-aacb-48d8-a956-b577bed0c109",
   "metadata": {},
   "outputs": [],
   "source": [
    "#Task 3\n",
    "ICSD['Database'] = 'ICSD'\n",
    "COD['Database'] = 'COD'\n",
    "CSD['Database'] = 'CSD'"
   ]
  },
  {
   "cell_type": "code",
   "execution_count": null,
   "id": "6e5b6472-262c-49f2-9fd4-fc28ce33261b",
   "metadata": {},
   "outputs": [],
   "source": [
    "COD['Space Group'] = COD['Space Group IT Number']\n",
    "ICSD['Space Group'] = ICSD['sym_group']\n",
    "CSD['Space Group'] = CSD['Space Group IT Number']"
   ]
  },
  {
   "cell_type": "code",
   "execution_count": null,
   "id": "270fed3b-10c8-4554-a1e9-7809798d8366",
   "metadata": {},
   "outputs": [],
   "source": [
    "COD['Volume'] = COD['volume']\n",
    "ICSD['Volume'] = ICSD['V']\n",
    "CSD['Volume'] = CSD['Cell Volume']\n",
    "\n",
    "CSD['a'] = CSD['Cell Length A']\n",
    "CSD['b'] = CSD['Cell Length B']\n",
    "CSD['c'] = CSD['Cell Length C']\n",
    "CSD['alpha'] = CSD['Cell Angle Alpha']\n",
    "CSD['beta'] = CSD['Cell Angle Beta']\n",
    "CSD['gamma'] = CSD['Cell Angle Gamma']\n",
    "\n",
    "ICSD['Publication Year'] = ICSD['publication_year']\n",
    "COD['Publication Year'] = COD['pubYear']"
   ]
  },
  {
   "cell_type": "code",
   "execution_count": null,
   "id": "e78ba36d-aaf7-486f-bf07-dd77d7da71c3",
   "metadata": {},
   "outputs": [],
   "source": [
    "COD = COD[['name', 'Local Path', 'Database', 'Publication Year', 'a', 'b','c','alpha','beta','gamma','Volume', 'Bravais Lattice', 'Space Group']]\n",
    "ICSD = ICSD[['name', 'Local Path', 'Database', 'Publication Year', 'a', 'b','c','alpha','beta','gamma','Volume', 'Bravais Lattice', 'Space Group']]\n",
    "CSD = CSD[['name', 'Local Path', 'Database', 'Publication Year', 'a', 'b','c','alpha','beta','gamma','Volume', 'Bravais Lattice', 'Space Group']]"
   ]
  },
  {
   "cell_type": "code",
   "execution_count": null,
   "id": "ed65af15-f824-46b6-83bf-27115f17e977",
   "metadata": {},
   "outputs": [],
   "source": [
    "#CrystalData = pd.concat([COD, ICSD,CSD], axis=0)\n",
    "CrystalData = pd.concat([CSD,ICSD],axis=0)\n",
    "cols_to_check = [col for col in CrystalData.columns if col != 'Publication Year']"
   ]
  },
  {
   "cell_type": "code",
   "execution_count": null,
   "id": "08b8c092-c32b-4917-b915-b6557262770f",
   "metadata": {},
   "outputs": [],
   "source": [
    "mapping = {0: 'F-Cubic',\n",
    "  1: 'I-Cubic',\n",
    "  2: 'P-Cubic',\n",
    "  3: 'P-Hexagonal',\n",
    "  4: 'C-Monoclinic',\n",
    "  5: 'P-Monoclinic',\n",
    "  6: 'C-Orthorhombic',\n",
    "  7: 'F-Orthorhombic',\n",
    "  8: 'I-Orthorhombic',\n",
    "  9: 'P-Orthorhombic',\n",
    "  10: 'R-Trigonal',\n",
    "  11: 'I-Tetragonal',\n",
    "  12: 'P-Tetragonal',\n",
    "  13: 'P-Triclinic'}\n",
    "my_dict_rev = {v: k for k, v in mapping.items()}\n",
    "ICSD['Numeric Bravais Lattice'] = ICSD['Bravais Lattice'].map(my_dict_rev)\n",
    "ICSD.to_csv('ICSD_With_Bravais.csv')"
   ]
  },
  {
   "cell_type": "code",
   "execution_count": null,
   "id": "a23dcf65-afe7-4505-a420-3b9b38458ab7",
   "metadata": {},
   "outputs": [],
   "source": [
    "CrystalData.to_csv('Crystal Database.csv')"
   ]
  },
  {
   "cell_type": "code",
   "execution_count": null,
   "id": "cf3b03d5-c785-47ae-903f-37f2c6af98c0",
   "metadata": {},
   "outputs": [],
   "source": [
    "CrystalData = pd.read_csv('Crystal Database.csv')\n",
    "ignore_column = 'Publication Year'\n",
    "\n",
    "# Drop rows with NaN values, ignoring the specified column\n",
    "df_cleaned = CrystalData.dropna(subset=[col for col in CrystalData.columns if col != ignore_column])"
   ]
  },
  {
   "cell_type": "code",
   "execution_count": null,
   "id": "a0c920ed-7310-4e69-b32b-4fd53e01b353",
   "metadata": {},
   "outputs": [],
   "source": [
    "CrystalData = df_cleaned\n",
    "CrystalData"
   ]
  }
 ],
 "metadata": {
  "kernelspec": {
   "display_name": "Python Crisp",
   "language": "python",
   "name": "crisp"
  },
  "language_info": {
   "codemirror_mode": {
    "name": "ipython",
    "version": 3
   },
   "file_extension": ".py",
   "mimetype": "text/x-python",
   "name": "python",
   "nbconvert_exporter": "python",
   "pygments_lexer": "ipython3",
   "version": "3.11.9"
  }
 },
 "nbformat": 4,
 "nbformat_minor": 5
}
